{
 "cells": [
  {
   "cell_type": "code",
   "execution_count": 5,
   "id": "64592235",
   "metadata": {},
   "outputs": [],
   "source": [
    "import cv2\n",
    "import os\n",
    "import random\n",
    "import numpy as np"
   ]
  },
  {
   "cell_type": "code",
   "execution_count": 8,
   "id": "6dc1b166",
   "metadata": {},
   "outputs": [],
   "source": [
    "my_dir = 'C:/Users/ASUS/Machine_Learning/100_Days_Of_Deep_Learning/Data_Augmentation/test'"
   ]
  },
  {
   "cell_type": "code",
   "execution_count": 9,
   "id": "608642b4",
   "metadata": {},
   "outputs": [],
   "source": [
    "categories = ['cats','dogs']"
   ]
  },
  {
   "cell_type": "code",
   "execution_count": 13,
   "id": "029a7511",
   "metadata": {},
   "outputs": [],
   "source": [
    "data = []\n",
    "for i in categories:\n",
    "    folder_path = os.path.join(my_dir,i)\n",
    "    \n",
    "    if i == 'cats':\n",
    "        label = 0\n",
    "    else:\n",
    "        label = 1\n",
    "        \n",
    "    for j in os.listdir(folder_path):\n",
    "        img_path = os.path.join(folder_path,j)\n",
    "        img = cv2.imread(img_path)\n",
    "        img = cv2.resize(img,(150,150))\n",
    "        data.append([img,label])\n",
    "    "
   ]
  },
  {
   "cell_type": "code",
   "execution_count": 17,
   "id": "95cdb3ae",
   "metadata": {},
   "outputs": [],
   "source": [
    "random.shuffle(data)"
   ]
  },
  {
   "cell_type": "code",
   "execution_count": 25,
   "id": "8e290fb7",
   "metadata": {},
   "outputs": [
    {
     "data": {
      "text/plain": [
       "150"
      ]
     },
     "execution_count": 25,
     "metadata": {},
     "output_type": "execute_result"
    }
   ],
   "source": [
    "len(data[0][0][0])"
   ]
  },
  {
   "cell_type": "code",
   "execution_count": 27,
   "id": "d550d0ad",
   "metadata": {},
   "outputs": [],
   "source": [
    "X = []\n",
    "y = []\n",
    "\n",
    "for i in data:\n",
    "    X.append(i[0])\n",
    "    y.append(i[1])\n",
    "    "
   ]
  },
  {
   "cell_type": "code",
   "execution_count": 28,
   "id": "67756d6f",
   "metadata": {},
   "outputs": [],
   "source": [
    "X = np.array(X)\n",
    "y = np.array(y)"
   ]
  },
  {
   "cell_type": "code",
   "execution_count": 30,
   "id": "003b746a",
   "metadata": {},
   "outputs": [
    {
     "data": {
      "text/plain": [
       "(1811, 150, 150, 3)"
      ]
     },
     "execution_count": 30,
     "metadata": {},
     "output_type": "execute_result"
    }
   ],
   "source": [
    "X.shape"
   ]
  },
  {
   "cell_type": "code",
   "execution_count": 31,
   "id": "f8ab7d9f",
   "metadata": {},
   "outputs": [
    {
     "data": {
      "text/plain": [
       "(1811,)"
      ]
     },
     "execution_count": 31,
     "metadata": {},
     "output_type": "execute_result"
    }
   ],
   "source": [
    "y.shape"
   ]
  },
  {
   "cell_type": "code",
   "execution_count": 32,
   "id": "f335d6f6",
   "metadata": {},
   "outputs": [],
   "source": [
    "X = X/255"
   ]
  },
  {
   "cell_type": "code",
   "execution_count": 33,
   "id": "4b66817e",
   "metadata": {},
   "outputs": [],
   "source": [
    "import tensorflow\n",
    "from tensorflow import keras\n",
    "from keras import Sequential\n",
    "from keras.layers import Conv2D,MaxPooling2D,Dense,Flatten,Dropout,Activation"
   ]
  },
  {
   "cell_type": "code",
   "execution_count": 34,
   "id": "a2bf8c17",
   "metadata": {},
   "outputs": [
    {
     "name": "stderr",
     "output_type": "stream",
     "text": [
      "C:\\Users\\ASUS\\anaconda3\\Lib\\site-packages\\keras\\src\\layers\\convolutional\\base_conv.py:99: UserWarning: Do not pass an `input_shape`/`input_dim` argument to a layer. When using Sequential models, prefer using an `Input(shape)` object as the first layer in the model instead.\n",
      "  super().__init__(\n"
     ]
    }
   ],
   "source": [
    "model = Sequential()\n",
    "\n",
    "model.add(Conv2D(32,kernel_size=(3,3),padding='valid',activation='relu',input_shape=(150,150,3)))\n",
    "model.add(MaxPooling2D(pool_size=(2,2),strides=2,padding='valid'))\n",
    "\n",
    "model.add(Conv2D(32,kernel_size=(3,3),padding='valid',activation='relu'))\n",
    "model.add(MaxPooling2D(pool_size=(2,2),strides=2,padding='valid'))\n",
    "\n",
    "model.add(Conv2D(64,kernel_size=(3,3),padding='valid',activation='relu'))\n",
    "model.add(MaxPooling2D(pool_size=(2,2),strides=2,padding='valid'))\n",
    "\n",
    "model.add(Flatten())\n",
    "\n",
    "model.add(Dense(64,activation='relu'))\n",
    "model.add(Dropout(0.5))\n",
    "model.add(Dense(1,activation='sigmoid'))\n"
   ]
  },
  {
   "cell_type": "code",
   "execution_count": null,
   "id": "9191716c",
   "metadata": {},
   "outputs": [],
   "source": []
  },
  {
   "cell_type": "code",
   "execution_count": 39,
   "id": "86404b8f",
   "metadata": {},
   "outputs": [],
   "source": [
    "model.compile(loss='binary_crossentropy',optimizer='rmsprop',metrics=['accuracy'])"
   ]
  },
  {
   "cell_type": "code",
   "execution_count": 50,
   "id": "b69d4bdd",
   "metadata": {},
   "outputs": [
    {
     "name": "stdout",
     "output_type": "stream",
     "text": [
      "Epoch 1/25\n",
      "\u001b[1m46/46\u001b[0m \u001b[32m━━━━━━━━━━━━━━━━━━━━\u001b[0m\u001b[37m\u001b[0m \u001b[1m12s\u001b[0m 249ms/step - accuracy: 0.7042 - loss: 0.5721 - val_accuracy: 0.6832 - val_loss: 0.5717\n",
      "Epoch 2/25\n",
      "\u001b[1m46/46\u001b[0m \u001b[32m━━━━━━━━━━━━━━━━━━━━\u001b[0m\u001b[37m\u001b[0m \u001b[1m14s\u001b[0m 300ms/step - accuracy: 0.7453 - loss: 0.5275 - val_accuracy: 0.6667 - val_loss: 0.6737\n",
      "Epoch 3/25\n",
      "\u001b[1m46/46\u001b[0m \u001b[32m━━━━━━━━━━━━━━━━━━━━\u001b[0m\u001b[37m\u001b[0m \u001b[1m12s\u001b[0m 261ms/step - accuracy: 0.7435 - loss: 0.5335 - val_accuracy: 0.6006 - val_loss: 0.6952\n",
      "Epoch 4/25\n",
      "\u001b[1m46/46\u001b[0m \u001b[32m━━━━━━━━━━━━━━━━━━━━\u001b[0m\u001b[37m\u001b[0m \u001b[1m12s\u001b[0m 255ms/step - accuracy: 0.7796 - loss: 0.4735 - val_accuracy: 0.6942 - val_loss: 0.5853\n",
      "Epoch 5/25\n",
      "\u001b[1m46/46\u001b[0m \u001b[32m━━━━━━━━━━━━━━━━━━━━\u001b[0m\u001b[37m\u001b[0m \u001b[1m12s\u001b[0m 253ms/step - accuracy: 0.8089 - loss: 0.4296 - val_accuracy: 0.6860 - val_loss: 0.5917\n",
      "Epoch 6/25\n",
      "\u001b[1m46/46\u001b[0m \u001b[32m━━━━━━━━━━━━━━━━━━━━\u001b[0m\u001b[37m\u001b[0m \u001b[1m12s\u001b[0m 250ms/step - accuracy: 0.8407 - loss: 0.3772 - val_accuracy: 0.6391 - val_loss: 0.9332\n",
      "Epoch 7/25\n",
      "\u001b[1m46/46\u001b[0m \u001b[32m━━━━━━━━━━━━━━━━━━━━\u001b[0m\u001b[37m\u001b[0m \u001b[1m12s\u001b[0m 250ms/step - accuracy: 0.8269 - loss: 0.3664 - val_accuracy: 0.6584 - val_loss: 0.8507\n",
      "Epoch 8/25\n",
      "\u001b[1m46/46\u001b[0m \u001b[32m━━━━━━━━━━━━━━━━━━━━\u001b[0m\u001b[37m\u001b[0m \u001b[1m11s\u001b[0m 248ms/step - accuracy: 0.8638 - loss: 0.3255 - val_accuracy: 0.6942 - val_loss: 0.6972\n",
      "Epoch 9/25\n",
      "\u001b[1m46/46\u001b[0m \u001b[32m━━━━━━━━━━━━━━━━━━━━\u001b[0m\u001b[37m\u001b[0m \u001b[1m11s\u001b[0m 248ms/step - accuracy: 0.8748 - loss: 0.2932 - val_accuracy: 0.6970 - val_loss: 0.7671\n",
      "Epoch 10/25\n",
      "\u001b[1m46/46\u001b[0m \u001b[32m━━━━━━━━━━━━━━━━━━━━\u001b[0m\u001b[37m\u001b[0m \u001b[1m12s\u001b[0m 259ms/step - accuracy: 0.9265 - loss: 0.1977 - val_accuracy: 0.6804 - val_loss: 0.9202\n",
      "Epoch 11/25\n",
      "\u001b[1m46/46\u001b[0m \u001b[32m━━━━━━━━━━━━━━━━━━━━\u001b[0m\u001b[37m\u001b[0m \u001b[1m11s\u001b[0m 247ms/step - accuracy: 0.9316 - loss: 0.2096 - val_accuracy: 0.6639 - val_loss: 0.8968\n",
      "Epoch 12/25\n",
      "\u001b[1m46/46\u001b[0m \u001b[32m━━━━━━━━━━━━━━━━━━━━\u001b[0m\u001b[37m\u001b[0m \u001b[1m12s\u001b[0m 260ms/step - accuracy: 0.9302 - loss: 0.1748 - val_accuracy: 0.6749 - val_loss: 1.0912\n",
      "Epoch 13/25\n",
      "\u001b[1m46/46\u001b[0m \u001b[32m━━━━━━━━━━━━━━━━━━━━\u001b[0m\u001b[37m\u001b[0m \u001b[1m12s\u001b[0m 256ms/step - accuracy: 0.9360 - loss: 0.1611 - val_accuracy: 0.6832 - val_loss: 1.0531\n",
      "Epoch 14/25\n",
      "\u001b[1m46/46\u001b[0m \u001b[32m━━━━━━━━━━━━━━━━━━━━\u001b[0m\u001b[37m\u001b[0m \u001b[1m12s\u001b[0m 250ms/step - accuracy: 0.9468 - loss: 0.1397 - val_accuracy: 0.6639 - val_loss: 1.3579\n",
      "Epoch 15/25\n",
      "\u001b[1m46/46\u001b[0m \u001b[32m━━━━━━━━━━━━━━━━━━━━\u001b[0m\u001b[37m\u001b[0m \u001b[1m12s\u001b[0m 250ms/step - accuracy: 0.9637 - loss: 0.0997 - val_accuracy: 0.6970 - val_loss: 1.3343\n",
      "Epoch 16/25\n",
      "\u001b[1m46/46\u001b[0m \u001b[32m━━━━━━━━━━━━━━━━━━━━\u001b[0m\u001b[37m\u001b[0m \u001b[1m12s\u001b[0m 257ms/step - accuracy: 0.9711 - loss: 0.0853 - val_accuracy: 0.6777 - val_loss: 1.6331\n",
      "Epoch 17/25\n",
      "\u001b[1m46/46\u001b[0m \u001b[32m━━━━━━━━━━━━━━━━━━━━\u001b[0m\u001b[37m\u001b[0m \u001b[1m12s\u001b[0m 251ms/step - accuracy: 0.9771 - loss: 0.0739 - val_accuracy: 0.6639 - val_loss: 1.1031\n",
      "Epoch 18/25\n",
      "\u001b[1m46/46\u001b[0m \u001b[32m━━━━━━━━━━━━━━━━━━━━\u001b[0m\u001b[37m\u001b[0m \u001b[1m12s\u001b[0m 251ms/step - accuracy: 0.9664 - loss: 0.1045 - val_accuracy: 0.6860 - val_loss: 1.3944\n",
      "Epoch 19/25\n",
      "\u001b[1m46/46\u001b[0m \u001b[32m━━━━━━━━━━━━━━━━━━━━\u001b[0m\u001b[37m\u001b[0m \u001b[1m12s\u001b[0m 254ms/step - accuracy: 0.9824 - loss: 0.0505 - val_accuracy: 0.6942 - val_loss: 1.8635\n",
      "Epoch 20/25\n",
      "\u001b[1m46/46\u001b[0m \u001b[32m━━━━━━━━━━━━━━━━━━━━\u001b[0m\u001b[37m\u001b[0m \u001b[1m12s\u001b[0m 264ms/step - accuracy: 0.9679 - loss: 0.0800 - val_accuracy: 0.6915 - val_loss: 1.6958\n",
      "Epoch 21/25\n",
      "\u001b[1m46/46\u001b[0m \u001b[32m━━━━━━━━━━━━━━━━━━━━\u001b[0m\u001b[37m\u001b[0m \u001b[1m12s\u001b[0m 258ms/step - accuracy: 0.9739 - loss: 0.0673 - val_accuracy: 0.6777 - val_loss: 1.6742\n",
      "Epoch 22/25\n",
      "\u001b[1m46/46\u001b[0m \u001b[32m━━━━━━━━━━━━━━━━━━━━\u001b[0m\u001b[37m\u001b[0m \u001b[1m12s\u001b[0m 257ms/step - accuracy: 0.9863 - loss: 0.0487 - val_accuracy: 0.6970 - val_loss: 1.8334\n",
      "Epoch 23/25\n",
      "\u001b[1m46/46\u001b[0m \u001b[32m━━━━━━━━━━━━━━━━━━━━\u001b[0m\u001b[37m\u001b[0m \u001b[1m12s\u001b[0m 257ms/step - accuracy: 0.9879 - loss: 0.0338 - val_accuracy: 0.6804 - val_loss: 1.7452\n",
      "Epoch 24/25\n",
      "\u001b[1m46/46\u001b[0m \u001b[32m━━━━━━━━━━━━━━━━━━━━\u001b[0m\u001b[37m\u001b[0m \u001b[1m12s\u001b[0m 262ms/step - accuracy: 0.9910 - loss: 0.0259 - val_accuracy: 0.6694 - val_loss: 2.4678\n",
      "Epoch 25/25\n",
      "\u001b[1m46/46\u001b[0m \u001b[32m━━━━━━━━━━━━━━━━━━━━\u001b[0m\u001b[37m\u001b[0m \u001b[1m12s\u001b[0m 252ms/step - accuracy: 0.9737 - loss: 0.0638 - val_accuracy: 0.6832 - val_loss: 2.2299\n"
     ]
    },
    {
     "data": {
      "text/plain": [
       "<keras.src.callbacks.history.History at 0x2b6f52ec910>"
      ]
     },
     "execution_count": 50,
     "metadata": {},
     "output_type": "execute_result"
    }
   ],
   "source": [
    "model.fit(X,y,validation_split=0.2,epochs=25)"
   ]
  },
  {
   "cell_type": "markdown",
   "id": "5aeca048",
   "metadata": {},
   "source": [
    "# Now Applying Data Augmentation"
   ]
  },
  {
   "cell_type": "code",
   "execution_count": 43,
   "id": "ea173d5d",
   "metadata": {},
   "outputs": [],
   "source": [
    "import tensorflow\n",
    "from tensorflow import keras\n",
    "from tensorflow.keras.preprocessing.image import ImageDataGenerator"
   ]
  },
  {
   "cell_type": "code",
   "execution_count": 44,
   "id": "2993d29a",
   "metadata": {},
   "outputs": [],
   "source": [
    "batch_size = 16\n",
    "train_datagen = ImageDataGenerator(\n",
    "        rescale=1./255,\n",
    "        shear_range=0.2,\n",
    "        zoom_range=0.2,\n",
    "        horizontal_flip=True\n",
    ")\n",
    "\n",
    "test_datagen = ImageDataGenerator(rescale=1./255)\n"
   ]
  },
  {
   "cell_type": "code",
   "execution_count": 45,
   "id": "3f30a1cf",
   "metadata": {},
   "outputs": [
    {
     "name": "stdout",
     "output_type": "stream",
     "text": [
      "Found 1811 images belonging to 2 classes.\n",
      "Found 767 images belonging to 2 classes.\n"
     ]
    }
   ],
   "source": [
    "train_generator = train_datagen.flow_from_directory(\n",
    "    'test',\n",
    "    target_size=(150,150),\n",
    "    batch_size=batch_size,\n",
    "    class_mode='binary'\n",
    "\n",
    ")\n",
    "\n",
    "validation_generator = train_datagen.flow_from_directory(\n",
    "    'valid',\n",
    "    target_size=(150,150),\n",
    "    batch_size=batch_size,\n",
    "    class_mode='binary'\n",
    "\n",
    ")"
   ]
  },
  {
   "cell_type": "code",
   "execution_count": 46,
   "id": "1e4ff972",
   "metadata": {},
   "outputs": [
    {
     "name": "stderr",
     "output_type": "stream",
     "text": [
      "C:\\Users\\ASUS\\anaconda3\\Lib\\site-packages\\keras\\src\\layers\\convolutional\\base_conv.py:99: UserWarning: Do not pass an `input_shape`/`input_dim` argument to a layer. When using Sequential models, prefer using an `Input(shape)` object as the first layer in the model instead.\n",
      "  super().__init__(\n"
     ]
    }
   ],
   "source": [
    "model_1 = Sequential()\n",
    "\n",
    "model_1.add(Conv2D(32,kernel_size=(3,3),padding='valid',activation='relu',input_shape=(150,150,3)))\n",
    "model_1.add(MaxPooling2D(pool_size=(2,2),strides=2,padding='valid'))\n",
    "\n",
    "model_1.add(Conv2D(32,kernel_size=(3,3),padding='valid',activation='relu'))\n",
    "model_1.add(MaxPooling2D(pool_size=(2,2),strides=2,padding='valid'))\n",
    "\n",
    "model_1.add(Conv2D(64,kernel_size=(3,3),padding='valid',activation='relu'))\n",
    "model_1.add(MaxPooling2D(pool_size=(2,2),strides=2,padding='valid'))\n",
    "\n",
    "model_1.add(Flatten())\n",
    "\n",
    "model_1.add(Dense(64,activation='relu'))\n",
    "model_1.add(Dropout(0.5))\n",
    "model_1.add(Dense(1,activation='sigmoid'))"
   ]
  },
  {
   "cell_type": "code",
   "execution_count": 47,
   "id": "67a9d733",
   "metadata": {},
   "outputs": [],
   "source": [
    "model_1.compile(loss='binary_crossentropy',optimizer='rmsprop',metrics=['accuracy'])"
   ]
  },
  {
   "cell_type": "code",
   "execution_count": 49,
   "id": "a9ec3137",
   "metadata": {
    "scrolled": true
   },
   "outputs": [
    {
     "name": "stdout",
     "output_type": "stream",
     "text": [
      "Epoch 1/25\n"
     ]
    },
    {
     "name": "stderr",
     "output_type": "stream",
     "text": [
      "C:\\Users\\ASUS\\anaconda3\\Lib\\site-packages\\keras\\src\\trainers\\data_adapters\\py_dataset_adapter.py:120: UserWarning: Your `PyDataset` class should call `super().__init__(**kwargs)` in its constructor. `**kwargs` can include `workers`, `use_multiprocessing`, `max_queue_size`. Do not pass these arguments to `fit()`, as they will be ignored.\n",
      "  self._warn_if_super_not_called()\n"
     ]
    },
    {
     "name": "stdout",
     "output_type": "stream",
     "text": [
      "\u001b[1m114/125\u001b[0m \u001b[32m━━━━━━━━━━━━━━━━━━\u001b[0m\u001b[37m━━\u001b[0m \u001b[1m2s\u001b[0m 271ms/step - accuracy: 0.5066 - loss: 0.7243"
     ]
    },
    {
     "name": "stderr",
     "output_type": "stream",
     "text": [
      "C:\\Users\\ASUS\\anaconda3\\Lib\\contextlib.py:155: UserWarning: Your input ran out of data; interrupting training. Make sure that your dataset or generator can generate at least `steps_per_epoch * epochs` batches. You may need to use the `.repeat()` function when building your dataset.\n",
      "  self.gen.throw(typ, value, traceback)\n"
     ]
    },
    {
     "name": "stdout",
     "output_type": "stream",
     "text": [
      "\u001b[1m125/125\u001b[0m \u001b[32m━━━━━━━━━━━━━━━━━━━━\u001b[0m\u001b[37m\u001b[0m \u001b[1m43s\u001b[0m 327ms/step - accuracy: 0.5088 - loss: 0.7219 - val_accuracy: 0.5880 - val_loss: 0.6734\n",
      "Epoch 2/25\n",
      "\u001b[1m125/125\u001b[0m \u001b[32m━━━━━━━━━━━━━━━━━━━━\u001b[0m\u001b[37m\u001b[0m \u001b[1m26s\u001b[0m 200ms/step - accuracy: 0.5622 - loss: 0.6879 - val_accuracy: 0.5541 - val_loss: 0.6628\n",
      "Epoch 3/25\n",
      "\u001b[1m125/125\u001b[0m \u001b[32m━━━━━━━━━━━━━━━━━━━━\u001b[0m\u001b[37m\u001b[0m \u001b[1m27s\u001b[0m 208ms/step - accuracy: 0.5868 - loss: 0.6743 - val_accuracy: 0.6402 - val_loss: 0.6224\n",
      "Epoch 4/25\n",
      "\u001b[1m125/125\u001b[0m \u001b[32m━━━━━━━━━━━━━━━━━━━━\u001b[0m\u001b[37m\u001b[0m \u001b[1m27s\u001b[0m 208ms/step - accuracy: 0.6400 - loss: 0.6438 - val_accuracy: 0.6754 - val_loss: 0.5684\n",
      "Epoch 5/25\n",
      "\u001b[1m125/125\u001b[0m \u001b[32m━━━━━━━━━━━━━━━━━━━━\u001b[0m\u001b[37m\u001b[0m \u001b[1m27s\u001b[0m 212ms/step - accuracy: 0.6958 - loss: 0.5892 - val_accuracy: 0.6871 - val_loss: 0.5689\n",
      "Epoch 6/25\n",
      "\u001b[1m125/125\u001b[0m \u001b[32m━━━━━━━━━━━━━━━━━━━━\u001b[0m\u001b[37m\u001b[0m \u001b[1m26s\u001b[0m 203ms/step - accuracy: 0.6874 - loss: 0.5996 - val_accuracy: 0.6806 - val_loss: 0.5533\n",
      "Epoch 7/25\n",
      "\u001b[1m125/125\u001b[0m \u001b[32m━━━━━━━━━━━━━━━━━━━━\u001b[0m\u001b[37m\u001b[0m \u001b[1m28s\u001b[0m 221ms/step - accuracy: 0.6966 - loss: 0.5634 - val_accuracy: 0.7132 - val_loss: 0.5489\n",
      "Epoch 8/25\n",
      "\u001b[1m125/125\u001b[0m \u001b[32m━━━━━━━━━━━━━━━━━━━━\u001b[0m\u001b[37m\u001b[0m \u001b[1m31s\u001b[0m 239ms/step - accuracy: 0.7272 - loss: 0.5570 - val_accuracy: 0.7405 - val_loss: 0.4920\n",
      "Epoch 9/25\n",
      "\u001b[1m125/125\u001b[0m \u001b[32m━━━━━━━━━━━━━━━━━━━━\u001b[0m\u001b[37m\u001b[0m \u001b[1m26s\u001b[0m 204ms/step - accuracy: 0.7428 - loss: 0.5376 - val_accuracy: 0.7692 - val_loss: 0.4710\n",
      "Epoch 10/25\n",
      "\u001b[1m125/125\u001b[0m \u001b[32m━━━━━━━━━━━━━━━━━━━━\u001b[0m\u001b[37m\u001b[0m \u001b[1m26s\u001b[0m 199ms/step - accuracy: 0.7451 - loss: 0.5287 - val_accuracy: 0.7288 - val_loss: 0.5019\n",
      "Epoch 11/25\n",
      "\u001b[1m125/125\u001b[0m \u001b[32m━━━━━━━━━━━━━━━━━━━━\u001b[0m\u001b[37m\u001b[0m \u001b[1m25s\u001b[0m 198ms/step - accuracy: 0.7593 - loss: 0.5201 - val_accuracy: 0.7419 - val_loss: 0.5003\n",
      "Epoch 12/25\n",
      "\u001b[1m125/125\u001b[0m \u001b[32m━━━━━━━━━━━━━━━━━━━━\u001b[0m\u001b[37m\u001b[0m \u001b[1m26s\u001b[0m 204ms/step - accuracy: 0.7448 - loss: 0.4938 - val_accuracy: 0.7484 - val_loss: 0.4954\n",
      "Epoch 13/25\n",
      "\u001b[1m125/125\u001b[0m \u001b[32m━━━━━━━━━━━━━━━━━━━━\u001b[0m\u001b[37m\u001b[0m \u001b[1m26s\u001b[0m 204ms/step - accuracy: 0.7652 - loss: 0.4894 - val_accuracy: 0.7588 - val_loss: 0.4695\n",
      "Epoch 14/25\n",
      "\u001b[1m125/125\u001b[0m \u001b[32m━━━━━━━━━━━━━━━━━━━━\u001b[0m\u001b[37m\u001b[0m \u001b[1m26s\u001b[0m 199ms/step - accuracy: 0.7612 - loss: 0.4933 - val_accuracy: 0.7953 - val_loss: 0.4261\n",
      "Epoch 15/25\n",
      "\u001b[1m125/125\u001b[0m \u001b[32m━━━━━━━━━━━━━━━━━━━━\u001b[0m\u001b[37m\u001b[0m \u001b[1m25s\u001b[0m 199ms/step - accuracy: 0.7788 - loss: 0.4748 - val_accuracy: 0.8031 - val_loss: 0.4247\n",
      "Epoch 16/25\n",
      "\u001b[1m125/125\u001b[0m \u001b[32m━━━━━━━━━━━━━━━━━━━━\u001b[0m\u001b[37m\u001b[0m \u001b[1m26s\u001b[0m 203ms/step - accuracy: 0.7749 - loss: 0.4871 - val_accuracy: 0.7992 - val_loss: 0.4252\n",
      "Epoch 17/25\n",
      "\u001b[1m125/125\u001b[0m \u001b[32m━━━━━━━━━━━━━━━━━━━━\u001b[0m\u001b[37m\u001b[0m \u001b[1m28s\u001b[0m 216ms/step - accuracy: 0.7813 - loss: 0.4473 - val_accuracy: 0.7640 - val_loss: 0.4415\n",
      "Epoch 18/25\n",
      "\u001b[1m125/125\u001b[0m \u001b[32m━━━━━━━━━━━━━━━━━━━━\u001b[0m\u001b[37m\u001b[0m \u001b[1m26s\u001b[0m 201ms/step - accuracy: 0.7885 - loss: 0.4568 - val_accuracy: 0.8240 - val_loss: 0.3872\n",
      "Epoch 19/25\n",
      "\u001b[1m125/125\u001b[0m \u001b[32m━━━━━━━━━━━━━━━━━━━━\u001b[0m\u001b[37m\u001b[0m \u001b[1m26s\u001b[0m 200ms/step - accuracy: 0.7642 - loss: 0.4663 - val_accuracy: 0.8044 - val_loss: 0.4080\n",
      "Epoch 20/25\n",
      "\u001b[1m125/125\u001b[0m \u001b[32m━━━━━━━━━━━━━━━━━━━━\u001b[0m\u001b[37m\u001b[0m \u001b[1m25s\u001b[0m 198ms/step - accuracy: 0.8085 - loss: 0.4203 - val_accuracy: 0.8188 - val_loss: 0.3954\n",
      "Epoch 21/25\n",
      "\u001b[1m125/125\u001b[0m \u001b[32m━━━━━━━━━━━━━━━━━━━━\u001b[0m\u001b[37m\u001b[0m \u001b[1m26s\u001b[0m 206ms/step - accuracy: 0.7945 - loss: 0.4383 - val_accuracy: 0.8383 - val_loss: 0.3650\n",
      "Epoch 22/25\n",
      "\u001b[1m125/125\u001b[0m \u001b[32m━━━━━━━━━━━━━━━━━━━━\u001b[0m\u001b[37m\u001b[0m \u001b[1m26s\u001b[0m 205ms/step - accuracy: 0.7956 - loss: 0.4228 - val_accuracy: 0.8188 - val_loss: 0.3715\n",
      "Epoch 23/25\n",
      "\u001b[1m125/125\u001b[0m \u001b[32m━━━━━━━━━━━━━━━━━━━━\u001b[0m\u001b[37m\u001b[0m \u001b[1m26s\u001b[0m 201ms/step - accuracy: 0.8206 - loss: 0.4278 - val_accuracy: 0.8331 - val_loss: 0.3657\n",
      "Epoch 24/25\n",
      "\u001b[1m125/125\u001b[0m \u001b[32m━━━━━━━━━━━━━━━━━━━━\u001b[0m\u001b[37m\u001b[0m \u001b[1m26s\u001b[0m 202ms/step - accuracy: 0.8158 - loss: 0.4209 - val_accuracy: 0.8540 - val_loss: 0.3500\n",
      "Epoch 25/25\n",
      "\u001b[1m125/125\u001b[0m \u001b[32m━━━━━━━━━━━━━━━━━━━━\u001b[0m\u001b[37m\u001b[0m \u001b[1m26s\u001b[0m 200ms/step - accuracy: 0.8253 - loss: 0.4019 - val_accuracy: 0.8096 - val_loss: 0.3914\n"
     ]
    },
    {
     "data": {
      "text/plain": [
       "<keras.src.callbacks.history.History at 0x2b6f507a8d0>"
      ]
     },
     "execution_count": 49,
     "metadata": {},
     "output_type": "execute_result"
    }
   ],
   "source": [
    "model_1.fit(\n",
    "    train_generator,\n",
    "    steps_per_epoch=2000 // batch_size,\n",
    "    epochs=25,\n",
    "    validation_data = validation_generator,\n",
    "    validation_steps = 800 // batch_size\n",
    "                     \n",
    "                     )"
   ]
  },
  {
   "cell_type": "code",
   "execution_count": null,
   "id": "a041a85d",
   "metadata": {},
   "outputs": [],
   "source": [
    "# So we can see that after applying augmentation, the model trained well, and reduced the overfitting"
   ]
  }
 ],
 "metadata": {
  "kernelspec": {
   "display_name": "Python 3 (ipykernel)",
   "language": "python",
   "name": "python3"
  },
  "language_info": {
   "codemirror_mode": {
    "name": "ipython",
    "version": 3
   },
   "file_extension": ".py",
   "mimetype": "text/x-python",
   "name": "python",
   "nbconvert_exporter": "python",
   "pygments_lexer": "ipython3",
   "version": "3.11.4"
  }
 },
 "nbformat": 4,
 "nbformat_minor": 5
}
